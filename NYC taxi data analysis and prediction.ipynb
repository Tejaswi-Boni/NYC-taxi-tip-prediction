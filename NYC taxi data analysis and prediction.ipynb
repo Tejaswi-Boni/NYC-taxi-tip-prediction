{
 "cells": [
  {
   "cell_type": "markdown",
   "metadata": {},
   "source": [
    "#                                 NYC Taxi Challenge "
   ]
  },
  {
   "cell_type": "code",
   "execution_count": 1,
   "metadata": {},
   "outputs": [],
   "source": [
    "import pandas as pd\n",
    "from collections import defaultdict\n",
    "import numpy as np\n",
    "import matplotlib.pyplot as plt\n",
    "%matplotlib inline"
   ]
  },
  {
   "cell_type": "markdown",
   "metadata": {},
   "source": [
    "##### Dataset Description\n",
    "\n",
    "* This dataset is data collected by the New York City Taxi and Limousine commission about \"Green\" Taxis. \n",
    "* Green Taxis (as opposed to yellow ones) are taxis that are not allowed to pick up passengers inside of the densely populated areas of Manhattan. We will use the data from  2015."
   ]
  },
  {
   "cell_type": "markdown",
   "metadata": {},
   "source": [
    "##  Dataset download and Validation"
   ]
  },
  {
   "cell_type": "code",
   "execution_count": 38,
   "metadata": {},
   "outputs": [
    {
     "data": {
      "text/plain": [
       "(11437686, 21)"
      ]
     },
     "execution_count": 38,
     "metadata": {},
     "output_type": "execute_result"
    }
   ],
   "source": [
    "#read the dataset from local\n",
    "df = pd.read_csv(\"2015_Green_Taxi_Trip_Data.csv\",encoding=\"latin-1\")\n",
    "df.shape"
   ]
  },
  {
   "cell_type": "code",
   "execution_count": 14,
   "metadata": {},
   "outputs": [
    {
     "data": {
      "text/plain": [
       "Index(['vendorid', 'pickup_datetime', 'dropoff_datetime', 'Store_and_fwd_flag',\n",
       "       'rate_code', 'Pickup_longitude', 'Pickup_latitude', 'Dropoff_longitude',\n",
       "       'Dropoff_latitude', 'Passenger_count', 'Trip_distance', 'Fare_amount',\n",
       "       'Extra', 'MTA_tax', 'Tip_amount', 'Tolls_amount',\n",
       "       'Improvement_surcharge', 'Total_amount', 'Payment_type', 'Trip_type'],\n",
       "      dtype='object')"
      ]
     },
     "execution_count": 14,
     "metadata": {},
     "output_type": "execute_result"
    }
   ],
   "source": [
    "df.columns"
   ]
  },
  {
   "cell_type": "code",
   "execution_count": 6,
   "metadata": {},
   "outputs": [
    {
     "data": {
      "text/html": [
       "<div>\n",
       "<style scoped>\n",
       "    .dataframe tbody tr th:only-of-type {\n",
       "        vertical-align: middle;\n",
       "    }\n",
       "\n",
       "    .dataframe tbody tr th {\n",
       "        vertical-align: top;\n",
       "    }\n",
       "\n",
       "    .dataframe thead th {\n",
       "        text-align: right;\n",
       "    }\n",
       "</style>\n",
       "<table border=\"1\" class=\"dataframe\">\n",
       "  <thead>\n",
       "    <tr style=\"text-align: right;\">\n",
       "      <th></th>\n",
       "      <th>vendorid</th>\n",
       "      <th>pickup_datetime</th>\n",
       "      <th>dropoff_datetime</th>\n",
       "      <th>Store_and_fwd_flag</th>\n",
       "      <th>rate_code</th>\n",
       "      <th>Pickup_longitude</th>\n",
       "      <th>Pickup_latitude</th>\n",
       "      <th>Dropoff_longitude</th>\n",
       "      <th>Dropoff_latitude</th>\n",
       "      <th>Passenger_count</th>\n",
       "      <th>...</th>\n",
       "      <th>Fare_amount</th>\n",
       "      <th>Extra</th>\n",
       "      <th>MTA_tax</th>\n",
       "      <th>Tip_amount</th>\n",
       "      <th>Tolls_amount</th>\n",
       "      <th>Ehail_fee</th>\n",
       "      <th>Improvement_surcharge</th>\n",
       "      <th>Total_amount</th>\n",
       "      <th>Payment_type</th>\n",
       "      <th>Trip_type</th>\n",
       "    </tr>\n",
       "  </thead>\n",
       "  <tbody>\n",
       "    <tr>\n",
       "      <th>0</th>\n",
       "      <td>2</td>\n",
       "      <td>01/01/2015 12:00:00 AM</td>\n",
       "      <td>01/01/2015 12:00:00 AM</td>\n",
       "      <td>N</td>\n",
       "      <td>1</td>\n",
       "      <td>-73.961418</td>\n",
       "      <td>40.806293</td>\n",
       "      <td>-73.948746</td>\n",
       "      <td>40.823627</td>\n",
       "      <td>1</td>\n",
       "      <td>...</td>\n",
       "      <td>6.5</td>\n",
       "      <td>0.5</td>\n",
       "      <td>0.5</td>\n",
       "      <td>1.40</td>\n",
       "      <td>0.0</td>\n",
       "      <td>NaN</td>\n",
       "      <td>0.3</td>\n",
       "      <td>9.20</td>\n",
       "      <td>1</td>\n",
       "      <td>1.0</td>\n",
       "    </tr>\n",
       "    <tr>\n",
       "      <th>1</th>\n",
       "      <td>1</td>\n",
       "      <td>01/01/2015 12:00:02 AM</td>\n",
       "      <td>01/01/2015 12:16:25 AM</td>\n",
       "      <td>N</td>\n",
       "      <td>1</td>\n",
       "      <td>-73.951454</td>\n",
       "      <td>40.824905</td>\n",
       "      <td>-73.895561</td>\n",
       "      <td>40.869946</td>\n",
       "      <td>1</td>\n",
       "      <td>...</td>\n",
       "      <td>19.0</td>\n",
       "      <td>0.5</td>\n",
       "      <td>0.5</td>\n",
       "      <td>0.00</td>\n",
       "      <td>0.0</td>\n",
       "      <td>NaN</td>\n",
       "      <td>0.3</td>\n",
       "      <td>20.30</td>\n",
       "      <td>2</td>\n",
       "      <td>1.0</td>\n",
       "    </tr>\n",
       "    <tr>\n",
       "      <th>2</th>\n",
       "      <td>2</td>\n",
       "      <td>01/01/2015 12:00:03 AM</td>\n",
       "      <td>01/01/2015 12:12:06 AM</td>\n",
       "      <td>N</td>\n",
       "      <td>1</td>\n",
       "      <td>-73.930908</td>\n",
       "      <td>40.694630</td>\n",
       "      <td>-73.956932</td>\n",
       "      <td>40.712601</td>\n",
       "      <td>1</td>\n",
       "      <td>...</td>\n",
       "      <td>10.0</td>\n",
       "      <td>0.5</td>\n",
       "      <td>0.5</td>\n",
       "      <td>2.62</td>\n",
       "      <td>0.0</td>\n",
       "      <td>NaN</td>\n",
       "      <td>0.3</td>\n",
       "      <td>13.92</td>\n",
       "      <td>1</td>\n",
       "      <td>1.0</td>\n",
       "    </tr>\n",
       "    <tr>\n",
       "      <th>3</th>\n",
       "      <td>2</td>\n",
       "      <td>01/01/2015 12:00:03 AM</td>\n",
       "      <td>01/01/2015 12:17:00 AM</td>\n",
       "      <td>N</td>\n",
       "      <td>1</td>\n",
       "      <td>-73.959808</td>\n",
       "      <td>40.813663</td>\n",
       "      <td>-73.882378</td>\n",
       "      <td>40.840015</td>\n",
       "      <td>1</td>\n",
       "      <td>...</td>\n",
       "      <td>21.0</td>\n",
       "      <td>0.5</td>\n",
       "      <td>0.5</td>\n",
       "      <td>0.00</td>\n",
       "      <td>0.0</td>\n",
       "      <td>NaN</td>\n",
       "      <td>0.0</td>\n",
       "      <td>22.00</td>\n",
       "      <td>2</td>\n",
       "      <td>1.0</td>\n",
       "    </tr>\n",
       "    <tr>\n",
       "      <th>4</th>\n",
       "      <td>2</td>\n",
       "      <td>01/01/2015 12:00:10 AM</td>\n",
       "      <td>01/01/2015 12:06:44 AM</td>\n",
       "      <td>N</td>\n",
       "      <td>1</td>\n",
       "      <td>-73.961418</td>\n",
       "      <td>40.714340</td>\n",
       "      <td>-73.961357</td>\n",
       "      <td>40.719212</td>\n",
       "      <td>1</td>\n",
       "      <td>...</td>\n",
       "      <td>6.0</td>\n",
       "      <td>0.5</td>\n",
       "      <td>0.5</td>\n",
       "      <td>1.95</td>\n",
       "      <td>0.0</td>\n",
       "      <td>NaN</td>\n",
       "      <td>0.0</td>\n",
       "      <td>8.95</td>\n",
       "      <td>1</td>\n",
       "      <td>1.0</td>\n",
       "    </tr>\n",
       "  </tbody>\n",
       "</table>\n",
       "<p>5 rows × 21 columns</p>\n",
       "</div>"
      ],
      "text/plain": [
       "   vendorid         pickup_datetime        dropoff_datetime  \\\n",
       "0         2  01/01/2015 12:00:00 AM  01/01/2015 12:00:00 AM   \n",
       "1         1  01/01/2015 12:00:02 AM  01/01/2015 12:16:25 AM   \n",
       "2         2  01/01/2015 12:00:03 AM  01/01/2015 12:12:06 AM   \n",
       "3         2  01/01/2015 12:00:03 AM  01/01/2015 12:17:00 AM   \n",
       "4         2  01/01/2015 12:00:10 AM  01/01/2015 12:06:44 AM   \n",
       "\n",
       "  Store_and_fwd_flag  rate_code  Pickup_longitude  Pickup_latitude  \\\n",
       "0                  N          1        -73.961418        40.806293   \n",
       "1                  N          1        -73.951454        40.824905   \n",
       "2                  N          1        -73.930908        40.694630   \n",
       "3                  N          1        -73.959808        40.813663   \n",
       "4                  N          1        -73.961418        40.714340   \n",
       "\n",
       "   Dropoff_longitude  Dropoff_latitude  Passenger_count  ...  Fare_amount  \\\n",
       "0         -73.948746         40.823627                1  ...          6.5   \n",
       "1         -73.895561         40.869946                1  ...         19.0   \n",
       "2         -73.956932         40.712601                1  ...         10.0   \n",
       "3         -73.882378         40.840015                1  ...         21.0   \n",
       "4         -73.961357         40.719212                1  ...          6.0   \n",
       "\n",
       "   Extra  MTA_tax  Tip_amount  Tolls_amount  Ehail_fee  Improvement_surcharge  \\\n",
       "0    0.5      0.5        1.40           0.0        NaN                    0.3   \n",
       "1    0.5      0.5        0.00           0.0        NaN                    0.3   \n",
       "2    0.5      0.5        2.62           0.0        NaN                    0.3   \n",
       "3    0.5      0.5        0.00           0.0        NaN                    0.0   \n",
       "4    0.5      0.5        1.95           0.0        NaN                    0.0   \n",
       "\n",
       "   Total_amount  Payment_type  Trip_type  \n",
       "0          9.20             1        1.0  \n",
       "1         20.30             2        1.0  \n",
       "2         13.92             1        1.0  \n",
       "3         22.00             2        1.0  \n",
       "4          8.95             1        1.0  \n",
       "\n",
       "[5 rows x 21 columns]"
      ]
     },
     "execution_count": 6,
     "metadata": {},
     "output_type": "execute_result"
    }
   ],
   "source": [
    "df.head()"
   ]
  },
  {
   "cell_type": "markdown",
   "metadata": {},
   "source": [
    "#### Validation of dataset"
   ]
  },
  {
   "cell_type": "code",
   "execution_count": 3,
   "metadata": {},
   "outputs": [
    {
     "name": "stdout",
     "output_type": "stream",
     "text": [
      "['Ehail_fee', 'Trip_type']\n"
     ]
    }
   ],
   "source": [
    "#check if the dataset has null values and print columns\n",
    "if(df.isnull().values.any()):\n",
    "    print(df.columns[df.isnull().any()].tolist())"
   ]
  },
  {
   "cell_type": "code",
   "execution_count": 8,
   "metadata": {},
   "outputs": [
    {
     "data": {
      "text/plain": [
       "11437686"
      ]
     },
     "execution_count": 8,
     "metadata": {},
     "output_type": "execute_result"
    }
   ],
   "source": [
    "#number of rows in each column having null values\n",
    "df['Trip_type'].isnull().sum()\n",
    "df['Ehail_fee'].isnull().sum()"
   ]
  },
  {
   "cell_type": "code",
   "execution_count": 9,
   "metadata": {},
   "outputs": [],
   "source": [
    "#Drop Ehail_fee column since all the rows are null\n",
    "df.drop('Ehail_fee', axis=1, inplace=True)"
   ]
  },
  {
   "cell_type": "code",
   "execution_count": 11,
   "metadata": {},
   "outputs": [],
   "source": [
    "#Replace NAN's in column Trip_type to median value\n",
    "df['Trip_type'] = df['Trip_type'].replace(np.nan,df['Trip_type'].median())"
   ]
  },
  {
   "cell_type": "markdown",
   "metadata": {},
   "source": [
    "## Analysis of 'Trip_distance' column"
   ]
  },
  {
   "cell_type": "code",
   "execution_count": 12,
   "metadata": {},
   "outputs": [
    {
     "data": {
      "text/plain": [
       "Text(0, 0.5, 'Count of trips')"
      ]
     },
     "execution_count": 12,
     "metadata": {},
     "output_type": "execute_result"
    },
    {
     "data": {
      "image/png": "[encoded data removed]",
      "text/plain": [
       "<Figure size 1080x360 with 2 Axes>"
      ]
     },
     "metadata": {
      "needs_background": "light"
     },
     "output_type": "display_data"
    }
   ],
   "source": [
    "#plot histogram for 'Trip_distance' column\n",
    "bins1=[0,1,2,3,4,5,6,7,8,9,10,11,12,13,14,15,16,17,18,19,20,21,22,23,24,25,26,27,28,29,30,31,32,33,35]\n",
    "fig,axes=plt.subplots(1,2,figsize=(15,5))\n",
    "df['Trip_distance'].hist(ax=axes[0],color='green')\n",
    "axes[0].set_title('Trip distance distribution')\n",
    "axes[0].set_xlabel('Trip Distance (miles)')\n",
    "axes[0].set_ylabel('Count of trips')\n",
    "df['Trip_distance'].hist(bins = bins1, ax=axes[1],color='green')\n",
    "axes[1].set_title('Trip distance distribution in detail')\n",
    "axes[1].set_xlabel('Trip Distance (miles)')\n",
    "axes[1].set_ylabel('Count of trips')"
   ]
  },
  {
   "cell_type": "markdown",
   "metadata": {},
   "source": [
    "#### Analysis \n",
    "* As we look into the first histogram above, we can understand that the trip distances do not really exceed more than 60 miles.\n",
    "* To analyze this in more detail, I have plotted trip distances in the range of 0-35. By looking at this we can understand that, it has normal distribution skewed to the right. \n",
    "* And most of the trips travel a distance of about 1-4 miles.\n",
    "* Looks like there are outliers after considering this distribution.\n",
    "\n",
    "#### Hypothesis\n",
    "*  Most of the trips are short distanced. Though this dataset does not have densely populated areas of Manhattan, people prefer such the trips are short."
   ]
  },
  {
   "cell_type": "markdown",
   "metadata": {},
   "source": [
    "## Mean and Median of 'Trip_distance' by hour of the day"
   ]
  },
  {
   "cell_type": "code",
   "execution_count": 42,
   "metadata": {},
   "outputs": [],
   "source": [
    "#convert pickup and dropoff times into datetimes and extract hour of the pickup\n",
    "df['pickup_datetime']=pd.to_datetime(df['pickup_datetime'],format=\"%m/%d/%Y %I:%M:%S %p\")"
   ]
  },
  {
   "cell_type": "code",
   "execution_count": 43,
   "metadata": {},
   "outputs": [],
   "source": [
    "df['dropoff_datetime']=pd.to_datetime(df['dropoff_datetime'],format=\"%m/%d/%Y %I:%M:%S %p\")\n",
    "df['pickuptime_hour'] = df.pickup_datetime.apply(lambda x: x.hour)"
   ]
  },
  {
   "cell_type": "code",
   "execution_count": 44,
   "metadata": {},
   "outputs": [],
   "source": [
    "#extract mean, median of trip_distance by hour of the day\n",
    "meanmediandistance = df.pivot_table(index='pickuptime_hour', values='Trip_distance',aggfunc=('mean','median')).reset_index()"
   ]
  },
  {
   "cell_type": "code",
   "execution_count": 45,
   "metadata": {},
   "outputs": [
    {
     "data": {
      "image/png": "[encoded data removed]",
      "text/plain": [
       "<Figure size 648x360 with 1 Axes>"
      ]
     },
     "metadata": {
      "needs_background": "light"
     },
     "output_type": "display_data"
    }
   ],
   "source": [
    "#plot the graphs\n",
    "fig,ax = plt.subplots(1,1,figsize=(9,5))\n",
    "meanmediandistance[['mean','median']].plot(ax=ax)\n",
    "plt.ylabel('Mean & Median(miles)')\n",
    "plt.xlabel('Hours')\n",
    "plt.title('Distribution of trip distance by pickup hour')\n",
    "plt.xlim([0,23])\n",
    "plt.show()"
   ]
  },
  {
   "cell_type": "markdown",
   "metadata": {},
   "source": [
    "#### Analysis\n",
    "* By looking at the graph above, we can understand that people tend to have longer travels in the mornings around 4-9AM because of their travel to work or other reason because of the peak in both median and mean.\n",
    "* During 4-9AM, Most of the people travel around 4.0 miles in the morning and the average distance people travel in the mornings is 2.8 Miles.\n",
    "* This trend seems to decrease during afternoons and nights and tend to increase during midnight hours.\n"
   ]
  },
  {
   "cell_type": "markdown",
   "metadata": {},
   "source": [
    "## derived variable for tip as a percentage of the total fare"
   ]
  },
  {
   "cell_type": "code",
   "execution_count": 49,
   "metadata": {},
   "outputs": [],
   "source": [
    "df['tip_derived(%)']=(df['Tip_amount']/df['Total_amount'])*100"
   ]
  },
  {
   "cell_type": "markdown",
   "metadata": {},
   "source": [
    "## Predictive model for tip"
   ]
  },
  {
   "cell_type": "markdown",
   "metadata": {},
   "source": [
    "### Inorder to build a predictive model for tip, below are steps we have followed and the approach is discussed below.\n",
    "### Data Validation\n",
    "* All the amount values seems to have negative values, hence they are replaced with absolute values\n",
    "* Store_and_fwd_flag column is a categorical variable having values Y/N so change them to 1/0\n",
    "\n",
    "### Feature Engineering\n",
    "* Trip Duration : I would like to see if the trip duration of trip influences the passenger to offer tip\n",
    "* Speed : Speed might as well affect tip given to people, since people might like drivers driving fastly/slowly\n",
    "* Shift : I have divided pickup time hour in to shifts to see which part of the day people tend to give more tips.\n",
    "* See Correlation among variables to see which variables matter most\n",
    "\n",
    "### Model Building\n",
    "* The first step here is to predict if a transaction has a tip\n",
    "##### Classification to predict if tip given\n",
    "* Inorder to predict this, understand which variables influence Tip and used RandomForest Classifier to predict tip\n",
    "##### Regression to predict tip percentage\n",
    "* The next step is to predict Percentage of tip for all the predictions which have tip. Since the variables did not have a correlation(linear relationship), we used regression using trees(RandomForest Regressor) to predict percentage of tip given."
   ]
  },
  {
   "cell_type": "markdown",
   "metadata": {},
   "source": [
    "### Data Validation"
   ]
  },
  {
   "cell_type": "markdown",
   "metadata": {},
   "source": [
    "###### Replace Negative values with absolute values"
   ]
  },
  {
   "cell_type": "code",
   "execution_count": 51,
   "metadata": {},
   "outputs": [
    {
     "data": {
      "text/plain": [
       "(17048, 23)"
      ]
     },
     "execution_count": 51,
     "metadata": {},
     "output_type": "execute_result"
    }
   ],
   "source": [
    "#Number of rows with negative values\n",
    "df2 = df[(df['Fare_amount']<0)|(df['Extra']<0) |(df['MTA_tax']<0)|(df['Tip_amount']<0)|(df['Tolls_amount']<0)|(df['Total_amount']<0)]\n",
    "df2.shape"
   ]
  },
  {
   "cell_type": "code",
   "execution_count": 52,
   "metadata": {},
   "outputs": [],
   "source": [
    "#replace negative values with absolute values\n",
    "df['Fare_amount'] = df['Fare_amount'].abs()\n",
    "df['Extra'] = df['Extra'].abs()\n",
    "df['MTA_tax'] = df['MTA_tax'].abs()\n",
    "df['Tip_amount'] = df['Tip_amount'].abs()\n",
    "df['Tolls_amount'] = df['Tolls_amount'].abs()\n",
    "df['Total_amount'] = df['Total_amount'].abs()"
   ]
  },
  {
   "cell_type": "markdown",
   "metadata": {},
   "source": [
    "###### Store_and_fwd_flag to numerical variable"
   ]
  },
  {
   "cell_type": "code",
   "execution_count": 53,
   "metadata": {},
   "outputs": [
    {
     "data": {
      "text/plain": [
       "array(['N', 'Y'], dtype=object)"
      ]
     },
     "execution_count": 53,
     "metadata": {},
     "output_type": "execute_result"
    }
   ],
   "source": [
    "df.Store_and_fwd_flag.unique()"
   ]
  },
  {
   "cell_type": "code",
   "execution_count": 54,
   "metadata": {},
   "outputs": [],
   "source": [
    "df['Store_and_fwd_flag'] = df['Store_and_fwd_flag'].replace('Y',1)\n",
    "df['Store_and_fwd_flag'] = df['Store_and_fwd_flag'].replace('N',0)"
   ]
  },
  {
   "cell_type": "markdown",
   "metadata": {},
   "source": [
    "### Feature Engineering"
   ]
  },
  {
   "cell_type": "markdown",
   "metadata": {},
   "source": [
    "###### Derived Variables"
   ]
  },
  {
   "cell_type": "code",
   "execution_count": 56,
   "metadata": {},
   "outputs": [],
   "source": [
    "#duration of trip in minutes\n",
    "df['tripduration'] = ((df['dropoff_datetime'] - df['pickup_datetime']).apply(lambda x:x.total_seconds()/60.0))"
   ]
  },
  {
   "cell_type": "code",
   "execution_count": 57,
   "metadata": {},
   "outputs": [],
   "source": [
    "#speed in miles per hour\n",
    "df['speed'] = df['Trip_distance']/(df['tripduration']/60)"
   ]
  },
  {
   "cell_type": "code",
   "execution_count": 58,
   "metadata": {},
   "outputs": [],
   "source": [
    "#shift\n",
    "df['Shift_type'] = np.NAN\n",
    "df.loc[df[(df.pickuptime_hour>=7) & (df.pickuptime_hour<15)].index,'Shift_type'] = 1\n",
    "df.loc[df[(df.pickuptime_hour>=15) & (df.pickuptime_hour<23)].index,'Shift_type'] = 2\n",
    "df.loc[df[df.Shift_type.isnull()].index,'Shift_type'] = 3"
   ]
  },
  {
   "cell_type": "code",
   "execution_count": 59,
   "metadata": {},
   "outputs": [],
   "source": [
    "# create with_tip variable\n",
    "df['With_tip'] = (df['tip_derived(%)']>0)*1"
   ]
  },
  {
   "cell_type": "code",
   "execution_count": 60,
   "metadata": {},
   "outputs": [],
   "source": [
    "#replace NAN or infinity values\n",
    "df['With_tip'] = df['With_tip'].replace(np.nan,0.0)\n",
    "df['tip_derived(%)'] = df['tip_derived(%)'].replace(np.nan,0.0)\n",
    "df['speed'] = df['speed'].replace(np.nan,0.0)\n",
    "df = df.replace(np.inf, np.nan)\n",
    "df = df.fillna(0)"
   ]
  },
  {
   "cell_type": "code",
   "execution_count": 61,
   "metadata": {},
   "outputs": [],
   "source": [
    "#backup dataframe\n",
    "df_backup = df.copy()"
   ]
  },
  {
   "cell_type": "code",
   "execution_count": 62,
   "metadata": {},
   "outputs": [],
   "source": [
    "#since we are not using these column, drop them\n",
    "df.drop('pickup_datetime', axis=1, inplace=True)\n",
    "df.drop('dropoff_datetime', axis=1, inplace=True)\n",
    "df.drop('Pickup_longitude', axis=1, inplace=True)\n",
    "df.drop('Pickup_latitude', axis=1, inplace=True)\n",
    "df.drop('Dropoff_longitude', axis=1, inplace=True)\n",
    "df.drop('Dropoff_latitude', axis=1, inplace=True)"
   ]
  },
  {
   "cell_type": "markdown",
   "metadata": {},
   "source": [
    "###### Distribution of 'tip_derived(%)' column"
   ]
  },
  {
   "cell_type": "code",
   "execution_count": 64,
   "metadata": {},
   "outputs": [
    {
     "data": {
      "image/png": "[encoded data removed]",
      "text/plain": [
       "<Figure size 1008x288 with 2 Axes>"
      ]
     },
     "metadata": {
      "needs_background": "light"
     },
     "output_type": "display_data"
    }
   ],
   "source": [
    "# generate histograms to see distribution of tip\n",
    "data1 = df[df['tip_derived(%)']>0]\n",
    "data2 = df[df['tip_derived(%)']==0]\n",
    "\n",
    "#Tip percentage vs all transactions\n",
    "fig,ax=plt.subplots(1,2,figsize=(14,4))\n",
    "df['tip_derived(%)'].hist(bins = 20,stacked=True,ax=ax[0])\n",
    "ax[0].set_xlabel('Tip (%)')\n",
    "ax[0].set_ylabel('Normed Transaction Count')\n",
    "ax[0].set_title('Distribution of Tip (%) - All transactions')\n",
    "\n",
    "#Tip percentage vs Transactions with tips\n",
    "data1['tip_derived(%)'].hist(bins = 20,stacked=True,ax=ax[1])\n",
    "ax[1].set_xlabel('Tip (%)')\n",
    "ax[1].set_title('Distribution of Tip (%) - Transaction with tips')\n",
    "ax[1].set_ylabel('Normed Transaction count')\n",
    "plt.show()"
   ]
  },
  {
   "cell_type": "markdown",
   "metadata": {},
   "source": [
    "### Analysis\n",
    "* The histogram on the left side represents distribution of tip with respect to all transactions. Looks like most of the trasactions does not have tip(around 60% of transactions).\n",
    "* Among the transactions that have tip, most of the transactions have the tip percentage between 16-25%"
   ]
  },
  {
   "cell_type": "markdown",
   "metadata": {},
   "source": [
    "###### Correlation among variables"
   ]
  },
  {
   "cell_type": "code",
   "execution_count": 65,
   "metadata": {},
   "outputs": [
    {
     "name": "stderr",
     "output_type": "stream",
     "text": [
      "C:\\Users\\Rajmohan\\AppData\\Local\\Temp/ipykernel_16496/1816167355.py:5: DeprecationWarning: `np.bool` is a deprecated alias for the builtin `bool`. To silence this warning, use `bool` by itself. Doing this will not modify any behavior and is safe. If you specifically wanted the numpy scalar type, use `np.bool_` here.\n",
      "Deprecated in NumPy 1.20; for more details and guidance: https://numpy.org/devdocs/release/1.20.0-notes.html#deprecations\n",
      "  sns.heatmap(corr, mask=np.zeros_like(corr, dtype=np.bool), cmap=sns.diverging_palette(220, 10, as_cmap=True),\n"
     ]
    },
    {
     "data": {
      "text/plain": [
       "<AxesSubplot:>"
      ]
     },
     "execution_count": 65,
     "metadata": {},
     "output_type": "execute_result"
    },
    {
     "data": {
      "image/png": "[encoded data removed]",
      "text/plain": [
       "<Figure size 720x576 with 2 Axes>"
      ]
     },
     "metadata": {
      "needs_background": "light"
     },
     "output_type": "display_data"
    }
   ],
   "source": [
    "#Correlation among variables\n",
    "import seaborn as sns\n",
    "f, ax = plt.subplots(figsize=(10, 8))\n",
    "corr = df.corr()\n",
    "sns.heatmap(corr, mask=np.zeros_like(corr, dtype=np.bool), cmap=sns.diverging_palette(220, 10, as_cmap=True),\n",
    "            square=True, ax=ax)"
   ]
  },
  {
   "cell_type": "markdown",
   "metadata": {},
   "source": [
    "#### Analysis\n",
    "* By looking at the above plot, 'With_Tip'is highly influenced by columns Tip_Derived(%), Total_amount, MTA_Tax, Extra, improvement_surcharge, Tolls_amount, Tip_amount, Fare_amount and Trip_distance\n",
    "* Since Total_amount is highly correlated to Fare_amount and Tolls_amount, we consider Total_amount for our analysis.\n",
    "* With_tip is derived from Tip_amount, Tip_Derived(%), hence we disregard those characterists\n",
    "* Hence we finally consider Total_amount, MTA_Tax, improvement_surcharge, Extra including derived variables speed, tripduration, pickuptime_hour"
   ]
  },
  {
   "cell_type": "markdown",
   "metadata": {},
   "source": [
    "### Classification"
   ]
  },
  {
   "cell_type": "markdown",
   "metadata": {},
   "source": [
    "### Random Forest Classification - Prediction if tip given"
   ]
  },
  {
   "cell_type": "markdown",
   "metadata": {},
   "source": [
    "For tip prediction, we have used a sample dataset of 300000 transactions and split them into test and training datasets."
   ]
  },
  {
   "cell_type": "code",
   "execution_count": 66,
   "metadata": {},
   "outputs": [],
   "source": [
    "from sklearn.model_selection import train_test_split\n",
    "from sklearn.ensemble import RandomForestClassifier\n",
    "from sklearn.metrics import confusion_matrix"
   ]
  },
  {
   "cell_type": "code",
   "execution_count": 68,
   "metadata": {},
   "outputs": [],
   "source": [
    "#Features for classification\n",
    "columnsforclassification = ['Payment_type','Trip_distance','Total_amount','tripduration','speed','MTA_tax',\n",
    "              'Extra','Improvement_surcharge','pickuptime_hour','With_tip']\n",
    "dfclass =  df[columnsforclassification]"
   ]
  },
  {
   "cell_type": "code",
   "execution_count": 69,
   "metadata": {},
   "outputs": [],
   "source": [
    "#consider part of the dataset for our analysis\n",
    "train = dfclass.copy()\n",
    "train = df.loc[np.random.choice(train.index,size=300000,replace=False)]"
   ]
  },
  {
   "cell_type": "code",
   "execution_count": 78,
   "metadata": {},
   "outputs": [
    {
     "data": {
      "text/plain": [
       "((240000, 20), 240000, (60000, 20), 60000)"
      ]
     },
     "execution_count": 78,
     "metadata": {},
     "output_type": "execute_result"
    }
   ],
   "source": [
    "#split dataset into train and test\n",
    "df_y = train['With_tip'].tolist()\n",
    "df_x = train.drop('With_tip', axis=1)\n",
    "X_train, X_test, y_train, y_test = train_test_split(df_x, df_y, test_size=0.2, random_state=0)\n",
    "X_train.shape,len(y_train),X_test.shape,len(y_test)"
   ]
  },
  {
   "cell_type": "code",
   "execution_count": 79,
   "metadata": {},
   "outputs": [
    {
     "data": {
      "text/plain": [
       "RandomForestClassifier(max_features='sqrt', n_estimators=50, n_jobs=-1)"
      ]
     },
     "execution_count": 79,
     "metadata": {},
     "output_type": "execute_result"
    }
   ],
   "source": [
    "#RandomForest Classifier with estimators 200\n",
    "rfc = RandomForestClassifier(n_jobs=-1,max_features= 'sqrt' ,n_estimators=50)\n",
    "rfc.fit(X_train, y_train)"
   ]
  },
  {
   "cell_type": "code",
   "execution_count": 80,
   "metadata": {},
   "outputs": [],
   "source": [
    "import pickle\n",
    "with open('rf_classifier.pkl','wb') as fid:\n",
    "    pickle.dump(rfc,fid)\n",
    "    fid.close()"
   ]
  },
  {
   "cell_type": "code",
   "execution_count": 81,
   "metadata": {},
   "outputs": [
    {
     "data": {
      "text/html": [
       "<div>\n",
       "<style scoped>\n",
       "    .dataframe tbody tr th:only-of-type {\n",
       "        vertical-align: middle;\n",
       "    }\n",
       "\n",
       "    .dataframe tbody tr th {\n",
       "        vertical-align: top;\n",
       "    }\n",
       "\n",
       "    .dataframe thead th {\n",
       "        text-align: right;\n",
       "    }\n",
       "</style>\n",
       "<table border=\"1\" class=\"dataframe\">\n",
       "  <thead>\n",
       "    <tr style=\"text-align: right;\">\n",
       "      <th></th>\n",
       "      <th>Predicted Tip Given</th>\n",
       "      <th>Predicted Tip not Given</th>\n",
       "    </tr>\n",
       "  </thead>\n",
       "  <tbody>\n",
       "    <tr>\n",
       "      <th>Actual Tip Given</th>\n",
       "      <td>37040</td>\n",
       "      <td>0</td>\n",
       "    </tr>\n",
       "    <tr>\n",
       "      <th>Actual Tip not Given</th>\n",
       "      <td>0</td>\n",
       "      <td>22960</td>\n",
       "    </tr>\n",
       "  </tbody>\n",
       "</table>\n",
       "</div>"
      ],
      "text/plain": [
       "                      Predicted Tip Given  Predicted Tip not Given\n",
       "Actual Tip Given                    37040                        0\n",
       "Actual Tip not Given                    0                    22960"
      ]
     },
     "execution_count": 81,
     "metadata": {},
     "output_type": "execute_result"
    }
   ],
   "source": [
    "#Confusion Matrix\n",
    "y_predict = rfc.predict(X_test)\n",
    "pd.DataFrame(confusion_matrix(y_test, y_predict),columns=['Predicted Tip Given', 'Predicted Tip not Given'],\n",
    "             index=['Actual Tip Given', 'Actual Tip not Given'])"
   ]
  },
  {
   "cell_type": "code",
   "execution_count": 82,
   "metadata": {},
   "outputs": [
    {
     "name": "stdout",
     "output_type": "stream",
     "text": [
      "RF accuracy: TRAINING 1.0\n",
      "RF accuracy: TESTING 1.0\n"
     ]
    }
   ],
   "source": [
    "#Accuracy on training dataset and test dataset\n",
    "print ('RF accuracy: TRAINING', rfc.score(X_train,y_train))\n",
    "print ('RF accuracy: TESTING', rfc.score(X_test,y_test))"
   ]
  },
  {
   "cell_type": "code",
   "execution_count": 83,
   "metadata": {},
   "outputs": [
    {
     "name": "stdout",
     "output_type": "stream",
     "text": [
      "ROC AUC: 1.00\n"
     ]
    },
    {
     "data": {
      "image/png": "[encoded data removed]",
      "text/plain": [
       "<Figure size 432x288 with 1 Axes>"
      ]
     },
     "metadata": {
      "needs_background": "light"
     },
     "output_type": "display_data"
    }
   ],
   "source": [
    "#ROC Curve\n",
    "from sklearn.metrics import roc_curve, auc\n",
    "fpr, tpr, _ = roc_curve(y_test, rfc.predict_proba(X_test)[:,1])\n",
    "\n",
    "roc_auc = auc(fpr, tpr)\n",
    "print('ROC AUC: %0.2f' % roc_auc)\n",
    " \n",
    "# Plot of a ROC curve for a specific class\n",
    "plt.figure()\n",
    "plt.plot(fpr, tpr, label='ROC curve (area = %0.2f)' % roc_auc)\n",
    "plt.plot([0, 1], [0, 1], 'k--')\n",
    "plt.xlim([0.0, 1.0])\n",
    "plt.ylim([0.0, 1.05])\n",
    "plt.xlabel('False Positive Rate')\n",
    "plt.ylabel('True Positive Rate')\n",
    "plt.title('ROC Curve')\n",
    "plt.legend(loc=\"lower right\")\n",
    "plt.show()"
   ]
  },
  {
   "cell_type": "markdown",
   "metadata": {},
   "source": [
    "#### Analysis\n",
    "* With the given featureset, we can correctly predict if a transaction has tip or not\n",
    "* The model does not have any false negatives or false positives.\n",
    "* Prediction of whether a tip is given worked well on both training and testing dataset"
   ]
  },
  {
   "cell_type": "markdown",
   "metadata": {},
   "source": [
    "### Regression"
   ]
  },
  {
   "cell_type": "code",
   "execution_count": 84,
   "metadata": {},
   "outputs": [
    {
     "name": "stderr",
     "output_type": "stream",
     "text": [
      "C:\\Users\\Rajmohan\\AppData\\Local\\Temp/ipykernel_16496/1816167355.py:5: DeprecationWarning: `np.bool` is a deprecated alias for the builtin `bool`. To silence this warning, use `bool` by itself. Doing this will not modify any behavior and is safe. If you specifically wanted the numpy scalar type, use `np.bool_` here.\n",
      "Deprecated in NumPy 1.20; for more details and guidance: https://numpy.org/devdocs/release/1.20.0-notes.html#deprecations\n",
      "  sns.heatmap(corr, mask=np.zeros_like(corr, dtype=np.bool), cmap=sns.diverging_palette(220, 10, as_cmap=True),\n"
     ]
    },
    {
     "data": {
      "text/plain": [
       "<AxesSubplot:>"
      ]
     },
     "execution_count": 84,
     "metadata": {},
     "output_type": "execute_result"
    },
    {
     "data": {
      "image/png": "[encoded data removed]",
      "text/plain": [
       "<Figure size 720x576 with 2 Axes>"
      ]
     },
     "metadata": {
      "needs_background": "light"
     },
     "output_type": "display_data"
    }
   ],
   "source": [
    "#Correlation among variables\n",
    "import seaborn as sns\n",
    "f, ax = plt.subplots(figsize=(10, 8))\n",
    "corr = df.corr()\n",
    "sns.heatmap(corr, mask=np.zeros_like(corr, dtype=np.bool), cmap=sns.diverging_palette(220, 10, as_cmap=True),\n",
    "            square=True, ax=ax)"
   ]
  },
  {
   "cell_type": "markdown",
   "metadata": {},
   "source": [
    "### Analysis\n",
    "* 'Tip_derived(%)' variable is highly influenced by Trip_distance, Fare_amount, MTA_Tax, Tip_Amount, Tolls_Amount, With_tip\n",
    "* All the amount related columns are highly correlated to Total_amount and hence we consider that for our analysis including derived variables \n",
    "* Since all the transactions having tip are mostly paid using Credit Card, we ignore feature 'Payment_Type'"
   ]
  },
  {
   "cell_type": "markdown",
   "metadata": {},
   "source": [
    "### Random Forest Regressor Model - Prediction of Tip Percentage"
   ]
  },
  {
   "cell_type": "markdown",
   "metadata": {},
   "source": [
    "###### Steps\n",
    "* We use part of the dataset for our analysis\n",
    "* Extract test and training dataset from main dataframe\n",
    "* USing these parameters fit the model and predict the tip percentage\n"
   ]
  },
  {
   "cell_type": "code",
   "execution_count": 87,
   "metadata": {},
   "outputs": [],
   "source": [
    "from sklearn.ensemble import RandomForestRegressor\n",
    "from sklearn.model_selection import cross_validate\n",
    "from sklearn.model_selection import GridSearchCV\n",
    "from sklearn.metrics import mean_squared_error, r2_score, roc_auc_score\n",
    "import warnings\n",
    "warnings.filterwarnings(\"ignore\")"
   ]
  },
  {
   "cell_type": "code",
   "execution_count": 88,
   "metadata": {},
   "outputs": [],
   "source": [
    "#predictors and target variable used for regression\n",
    "predictors = ['Total_amount', 'Trip_distance', 'tripduration', 'speed','Shift_type']\n",
    "train['ID'] = train.index\n",
    "target = 'tip_derived(%)'"
   ]
  },
  {
   "cell_type": "code",
   "execution_count": 89,
   "metadata": {},
   "outputs": [],
   "source": [
    "#train and test datasets extracted from main dataframe\n",
    "train = df.copy()\n",
    "train = train.loc[np.random.choice(train.index,size=100000,replace=False)]\n",
    "indices = df.index[~df.index.isin(train.index)]\n",
    "test = df.loc[np.random.choice(indices,size=100000,replace=False)]"
   ]
  },
  {
   "cell_type": "code",
   "execution_count": 97,
   "metadata": {},
   "outputs": [],
   "source": [
    "#Random Forest regressor model with estimator 'mean_squared_error'\n",
    "rfr = RandomForestRegressor(n_jobs=-1,criterion='mse' ,n_estimators=120)"
   ]
  },
  {
   "cell_type": "code",
   "execution_count": 98,
   "metadata": {},
   "outputs": [],
   "source": [
    "import pickle\n",
    "with open('rfr.pkl','wb') as fid:\n",
    "    pickle.dump(rfr,fid)\n",
    "    fid.close()"
   ]
  },
  {
   "cell_type": "markdown",
   "metadata": {},
   "source": [
    "### Check performance on training dataset using parameters obtained"
   ]
  },
  {
   "cell_type": "code",
   "execution_count": 106,
   "metadata": {},
   "outputs": [
    {
     "name": "stdout",
     "output_type": "stream",
     "text": [
      "mean_squared_error: 1.9949262683325384\n",
      "CV Score - Mean : 0.8191319 | Std Dev : 0.008627409 | Min : 0.807253 | Max : 0.830416\n"
     ]
    }
   ],
   "source": [
    "from sklearn.model_selection import cross_val_score\n",
    "# train the algorithm on data\n",
    "rfr.fit(train[predictors],train[target])\n",
    "\n",
    "#prediction on training dataset using cross validation\n",
    "train_predictions = rfr.predict(train[predictors])\n",
    "cv_score = cross_val_score(rfr,train[predictors],train[target],cv=5)\n",
    "\n",
    "#model evaluation metrics\n",
    "print(\"mean_squared_error:\",mean_squared_error(train[target].values,train_predictions))\n",
    "print(\"CV Score - Mean : %.7g | Std Dev : %.7g | Min : %.7g | Max : %.7g\" % (np.mean(cv_score),np.std(cv_score),np.min(cv_score),np.max(cv_score)))"
   ]
  },
  {
   "cell_type": "code",
   "execution_count": 107,
   "metadata": {},
   "outputs": [
    {
     "name": "stdout",
     "output_type": "stream",
     "text": [
      "RFR test mse: 14.090375780443988\n",
      "RFR r2: 0.7835654194134924\n"
     ]
    }
   ],
   "source": [
    "ypred = rfr.predict(test[predictors])\n",
    "print('RFR test mse:',mean_squared_error(ypred,test['tip_derived(%)']))\n",
    "print('RFR r2:', r2_score(ypred,test['tip_derived(%)']))"
   ]
  },
  {
   "cell_type": "markdown",
   "metadata": {},
   "source": [
    "#### Analysis\n",
    "* The best optimal number of trees for which results are good is 120\n",
    "* The mean square error was used as a valuation metric\n",
    "* r2 coefficient is 0.78 which is good result"
   ]
  },
  {
   "cell_type": "markdown",
   "metadata": {},
   "source": [
    "### Prediction of Tip on new Dataset"
   ]
  },
  {
   "cell_type": "markdown",
   "metadata": {},
   "source": [
    "### Steps:\n",
    "* To predict tip for new dataset, we first predict if the transaction has tip using Classification model\n",
    "* If the transaction has tip, we predict tip percentage using Regression model"
   ]
  },
  {
   "cell_type": "code",
   "execution_count": 112,
   "metadata": {},
   "outputs": [],
   "source": [
    "def predict_tip(transaction):\n",
    "    reg_predictors = ['Total_amount','Trip_distance', 'tripduration', 'speed','Shift_type']  \n",
    "    has_tip = transaction['With_tip'] # classify transactions  \n",
    "    return has_tip*rfr.predict(transaction[reg_predictors]) ## predict tips for those transactions classified as 1"
   ]
  },
  {
   "cell_type": "code",
   "execution_count": 113,
   "metadata": {},
   "outputs": [
    {
     "name": "stdout",
     "output_type": "stream",
     "text": [
      "final mean_squared_error: 8.7220192444543\n",
      "final r2_score: 0.8669822303434938\n"
     ]
    }
   ],
   "source": [
    "test1 = df.loc[np.random.choice(df.index,size = 100000,replace=False)]\n",
    "ypred = predict_tip(test1)\n",
    "print(\"final mean_squared_error:\", mean_squared_error(ypred,test1['tip_derived(%)']))\n",
    "print(\"final r2_score:\", r2_score(ypred,test1['tip_derived(%)']))"
   ]
  },
  {
   "cell_type": "markdown",
   "metadata": {},
   "source": [
    "#### Analysis\n",
    "* The mean square error was used as a valuation metric\n",
    "* mean square error on the same training dataset is: 8.72\n",
    "* r2 coefficient is 0.866 which is good result even compared to performance on training dataset"
   ]
  },
  {
   "cell_type": "markdown",
   "metadata": {},
   "source": [
    "### Build a derived variable representing the average speed over the course of a trip."
   ]
  },
  {
   "cell_type": "code",
   "execution_count": 156,
   "metadata": {},
   "outputs": [],
   "source": [
    "#get original dataframe with all the columns\n",
    "df_q5 = df_backup"
   ]
  },
  {
   "cell_type": "code",
   "execution_count": 157,
   "metadata": {},
   "outputs": [],
   "source": [
    "import datetime\n",
    "df_q5['week']= df_q5.pickup_datetime.apply(lambda x:x.isocalendar()[1])"
   ]
  },
  {
   "cell_type": "code",
   "execution_count": 158,
   "metadata": {},
   "outputs": [],
   "source": [
    "df_q5 = df_q5.loc[df_q5['week'].isin(range(1,6))]"
   ]
  },
  {
   "cell_type": "code",
   "execution_count": 159,
   "metadata": {},
   "outputs": [
    {
     "data": {
      "text/html": [
       "<div>\n",
       "<style scoped>\n",
       "    .dataframe tbody tr th:only-of-type {\n",
       "        vertical-align: middle;\n",
       "    }\n",
       "\n",
       "    .dataframe tbody tr th {\n",
       "        vertical-align: top;\n",
       "    }\n",
       "\n",
       "    .dataframe thead th {\n",
       "        text-align: right;\n",
       "    }\n",
       "</style>\n",
       "<table border=\"1\" class=\"dataframe\">\n",
       "  <thead>\n",
       "    <tr style=\"text-align: right;\">\n",
       "      <th></th>\n",
       "      <th>speed</th>\n",
       "    </tr>\n",
       "    <tr>\n",
       "      <th>week</th>\n",
       "      <th></th>\n",
       "    </tr>\n",
       "  </thead>\n",
       "  <tbody>\n",
       "    <tr>\n",
       "      <th>1</th>\n",
       "      <td>16.779227</td>\n",
       "    </tr>\n",
       "    <tr>\n",
       "      <th>2</th>\n",
       "      <td>14.936463</td>\n",
       "    </tr>\n",
       "    <tr>\n",
       "      <th>3</th>\n",
       "      <td>15.343254</td>\n",
       "    </tr>\n",
       "    <tr>\n",
       "      <th>4</th>\n",
       "      <td>15.449656</td>\n",
       "    </tr>\n",
       "    <tr>\n",
       "      <th>5</th>\n",
       "      <td>14.919969</td>\n",
       "    </tr>\n",
       "  </tbody>\n",
       "</table>\n",
       "</div>"
      ],
      "text/plain": [
       "          speed\n",
       "week           \n",
       "1     16.779227\n",
       "2     14.936463\n",
       "3     15.343254\n",
       "4     15.449656\n",
       "5     14.919969"
      ]
     },
     "execution_count": 159,
     "metadata": {},
     "output_type": "execute_result"
    }
   ],
   "source": [
    "#get mean of speed by week\n",
    "df_q5[['speed','week']].groupby('week').mean()"
   ]
  },
  {
   "cell_type": "code",
   "execution_count": 161,
   "metadata": {},
   "outputs": [
    {
     "data": {
      "image/png": "[encoded data removed]",
      "text/plain": [
       "<Figure size 432x288 with 1 Axes>"
      ]
     },
     "metadata": {
      "needs_background": "light"
     },
     "output_type": "display_data"
    }
   ],
   "source": [
    "# generate boxplot for all the weeks in September\n",
    "df_q5.boxplot('speed','week')\n",
    "plt.ylim([0,28])\n",
    "plt.ylabel('Speed')\n",
    "plt.show()"
   ]
  },
  {
   "cell_type": "markdown",
   "metadata": {},
   "source": [
    "#### Analysis\n",
    "* The median speed in the weeks 2 and 3 is almost same. Weeks 1 and 4 have higher median speeds when compared to weeks 2 and 3 and week 5 has lower median average speed"
   ]
  },
  {
   "cell_type": "markdown",
   "metadata": {},
   "source": [
    "#### Perform T-test to see if all the weeks have same average speed\n",
    "\n",
    "Hypothesis: The mean values for two weeks are same\n",
    "* We perform this analysis for all combinations of weeks to see which weeks have same average speed\n"
   ]
  },
  {
   "cell_type": "code",
   "execution_count": 166,
   "metadata": {},
   "outputs": [
    {
     "name": "stdout",
     "output_type": "stream",
     "text": [
      "w1             1             2         3         4             5\n",
      "w2                                                              \n",
      "1   1.000000e+00  1.238643e-08  0.000088  0.000134  5.518011e-08\n",
      "2   1.238643e-08  1.000000e+00  0.198275  0.082119  9.543600e-01\n",
      "3   8.757713e-05  1.982748e-01  1.000000  0.755161  2.066249e-01\n",
      "4   1.335976e-04  8.211902e-02  0.755161  1.000000  9.309249e-02\n",
      "5   5.518011e-08  9.543600e-01  0.206625  0.093092  1.000000e+00\n"
     ]
    }
   ],
   "source": [
    "from scipy.stats import ttest_ind, ttest_ind_from_stats,f_oneway\n",
    "weeks = pd.unique(df_q5.week)\n",
    "pvals = []\n",
    "for i in range(len(weeks)): # for each pair, run t-test\n",
    "    for j in range(len(weeks)):\n",
    "        pvals.append((weeks[i], weeks[j],ttest_ind(df_q5[df_q5.week==weeks[i]].speed,df_q5[df_q5.week==weeks[j]].speed,equal_var=False)[1]))\n",
    "    \n",
    "pvalues = pd.DataFrame(pvals,columns=['w1','w2','pval'])\n",
    "print(pvalues.pivot_table(index='w1',columns='w2',values='pval').T)"
   ]
  },
  {
   "cell_type": "markdown",
   "metadata": {},
   "source": [
    "#### Analysis\n",
    "Weeks 2 and 3 have higher p values which means they have same average speeds"
   ]
  },
  {
   "cell_type": "code",
   "execution_count": 167,
   "metadata": {},
   "outputs": [
    {
     "name": "stdout",
     "output_type": "stream",
     "text": [
      "F Test: F_onewayResult(statistic=13.131548549791194, pvalue=1.805657282269184e-50)\n"
     ]
    }
   ],
   "source": [
    "# calculate anova\n",
    "hours = range(24)\n",
    "ftest = \"f_oneway(\"\n",
    "for h in hours:\n",
    "    ftest+=\"df_q5[df_q5.pickuptime_hour==\"+str(h)+\"].speed,\"\n",
    "ftest=ftest[:-1]+\")\"\n",
    "print(\"F Test:\", eval(ftest)) #evaluate the command and print"
   ]
  },
  {
   "cell_type": "markdown",
   "metadata": {},
   "source": [
    "#### Analysis"
   ]
  },
  {
   "cell_type": "code",
   "execution_count": 168,
   "metadata": {},
   "outputs": [
    {
     "data": {
      "image/png": "[encoded data removed]",
      "text/plain": [
       "<Figure size 432x288 with 1 Axes>"
      ]
     },
     "metadata": {
      "needs_background": "light"
     },
     "output_type": "display_data"
    }
   ],
   "source": [
    "# boxplot\n",
    "df_q5.boxplot('speed','pickuptime_hour')\n",
    "plt.ylim([5,24])\n",
    "plt.ylabel('Speed')\n",
    "plt.show()"
   ]
  },
  {
   "cell_type": "markdown",
   "metadata": {},
   "source": [
    "## Improvements which can be done"
   ]
  },
  {
   "cell_type": "markdown",
   "metadata": {},
   "source": [
    "* During Tip Percentage prediction, I can use statistical methods to find relationship between features to find if ther are important for our analysis\n",
    "* Also histogram of tip percentage with respect to each feature helps to understand their influence on target variable\n",
    "* I can even use Latitudes and Longitues to understand area the taxi travelled and extract demographic related analysis\n",
    "* Right now, I have limited my dataset size because of computational issues and time, but using BigData technologies like Spark we can use entire data for our analysis which might produce even better results"
   ]
  }
 ],
 "metadata": {
  "kernelspec": {
   "display_name": "Python 3 (ipykernel)",
   "language": "python",
   "name": "python3"
  },
  "language_info": {
   "codemirror_mode": {
    "name": "ipython",
    "version": 3
   },
   "file_extension": ".py",
   "mimetype": "text/x-python",
   "name": "python",
   "nbconvert_exporter": "python",
   "pygments_lexer": "ipython3",
   "version": "3.9.7"
  }
 },
 "nbformat": 4,
 "nbformat_minor": 2
}
